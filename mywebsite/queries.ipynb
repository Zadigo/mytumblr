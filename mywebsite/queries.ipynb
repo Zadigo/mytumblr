{
 "cells": [
  {
   "cell_type": "code",
   "execution_count": 1,
   "metadata": {},
   "outputs": [],
   "source": [
    "import os\n",
    "from django.conf import settings\n",
    "from feed import models as feed_models\n",
    "from accounts import models\n",
    "from django.db.models import BooleanField\n",
    "from django.db.models.expressions import Q, F, Case, When"
   ]
  },
  {
   "cell_type": "code",
   "execution_count": 2,
   "metadata": {},
   "outputs": [],
   "source": [
    "os.environ['DJANGO_ALLOW_ASYNC_UNSAFE'] = 'true'"
   ]
  },
  {
   "cell_type": "code",
   "execution_count": 39,
   "metadata": {},
   "outputs": [],
   "source": [
    "users = models.MyUser.objects.all()\n",
    "user1 = users.first()\n",
    "user2 = users.get(username='kylie')"
   ]
  },
  {
   "cell_type": "code",
   "execution_count": 40,
   "metadata": {},
   "outputs": [
    {
     "data": {
      "text/plain": [
       "<MyUserProfile: kylie.jenner@gmail.com>"
      ]
     },
     "execution_count": 40,
     "metadata": {},
     "output_type": "execute_result"
    }
   ],
   "source": [
    "profile1 = user1.myuserprofile\n",
    "profile2 = user2.myuserprofile\n",
    "profile2"
   ]
  },
  {
   "cell_type": "code",
   "execution_count": 41,
   "metadata": {},
   "outputs": [
    {
     "data": {
      "text/plain": [
       "<QuerySet [<MyUserProfile: kylie.jenner@gmail.com>]>"
      ]
     },
     "execution_count": 41,
     "metadata": {},
     "output_type": "execute_result"
    }
   ],
   "source": [
    "followers = profile1.followed_by.all()\n",
    "followers"
   ]
  },
  {
   "cell_type": "code",
   "execution_count": 42,
   "metadata": {},
   "outputs": [
    {
     "data": {
      "text/plain": [
       "True"
      ]
     },
     "execution_count": 42,
     "metadata": {},
     "output_type": "execute_result"
    }
   ],
   "source": [
    "profile2 in followers"
   ]
  },
  {
   "cell_type": "code",
   "execution_count": 44,
   "metadata": {},
   "outputs": [
    {
     "data": {
      "text/plain": [
       "<QuerySet [<MyUserProfile: kylie.jenner@gmail.com>]>"
      ]
     },
     "execution_count": 44,
     "metadata": {},
     "output_type": "execute_result"
    }
   ],
   "source": [
    "juliette = users.get(username='juliette')\n",
    "# constance.myuserprofile.follows.add(profile1)\n",
    "juliette.myuserprofile.follows.all()"
   ]
  },
  {
   "cell_type": "code",
   "execution_count": 46,
   "metadata": {},
   "outputs": [
    {
     "data": {
      "text/plain": [
       "<QuerySet [<MyUserProfile: kylie.jenner@gmail.com>]>"
      ]
     },
     "execution_count": 46,
     "metadata": {},
     "output_type": "execute_result"
    }
   ],
   "source": [
    "# constance.myuserprofile.follows.remove(profile1)\n",
    "juliette.myuserprofile.follows.all()"
   ]
  },
  {
   "cell_type": "code",
   "execution_count": 3,
   "metadata": {},
   "outputs": [],
   "source": [
    "videos = feed_models.Video.objects.all()"
   ]
  },
  {
   "cell_type": "code",
   "execution_count": 8,
   "metadata": {},
   "outputs": [],
   "source": [
    "video = videos.first()"
   ]
  },
  {
   "cell_type": "markdown",
   "metadata": {},
   "source": [
    "## Likes"
   ]
  },
  {
   "cell_type": "code",
   "execution_count": 77,
   "metadata": {},
   "outputs": [
    {
     "name": "stdout",
     "output_type": "stream",
     "text": [
      "<QuerySet [<Like: kylie>, <Like: juliette>, <Like: zadigo>]> 3\n"
     ]
    }
   ],
   "source": [
    "likes = videos.like_set.all()\n",
    "print(likes, likes.count())"
   ]
  },
  {
   "cell_type": "code",
   "execution_count": 81,
   "metadata": {},
   "outputs": [
    {
     "data": {
      "text/plain": [
       "5"
      ]
     },
     "execution_count": 81,
     "metadata": {},
     "output_type": "execute_result"
    }
   ],
   "source": [
    "from django.db.models import Count\n",
    "\n",
    "juliette_videos = juliette.video_set.all()\n",
    "juliette_videos.aggregate(Count('like'))\n",
    "\n",
    "# feed_models.Like.objects.filter(user__username='zadigo').count()"
   ]
  },
  {
   "cell_type": "markdown",
   "metadata": {},
   "source": [
    "## Check user has liked video"
   ]
  },
  {
   "cell_type": "code",
   "execution_count": 13,
   "metadata": {},
   "outputs": [
    {
     "data": {
      "text/plain": [
       "<QuerySet [(False,), (False,), (True,), (False,), (False,), (True,), (True,), (False,), (False,)]>"
      ]
     },
     "execution_count": 13,
     "metadata": {},
     "output_type": "execute_result"
    }
   ],
   "source": [
    "user_in_likes = When(like__user__username='zadigo', then=True)\n",
    "cases = Case(user_in_likes, default=False, output_field=BooleanField())\n",
    "annotated_comments = comments.annotate(has_liked=cases)\n",
    "annotated_comments.values_list('has_liked')"
   ]
  },
  {
   "cell_type": "code",
   "execution_count": 14,
   "metadata": {},
   "outputs": [],
   "source": [
    "zadigo = users.get(username='zadigo')"
   ]
  },
  {
   "cell_type": "markdown",
   "metadata": {},
   "source": [
    "# Tags"
   ]
  },
  {
   "cell_type": "code",
   "execution_count": 3,
   "metadata": {},
   "outputs": [],
   "source": [
    "from tags import models"
   ]
  },
  {
   "cell_type": "code",
   "execution_count": 4,
   "metadata": {},
   "outputs": [],
   "source": [
    "tag = models.Tag.objects.first()"
   ]
  },
  {
   "cell_type": "code",
   "execution_count": 6,
   "metadata": {},
   "outputs": [
    {
     "data": {
      "text/plain": [
       "<QuerySet [<Video: 3d102d3d9f>]>"
      ]
     },
     "execution_count": 6,
     "metadata": {},
     "output_type": "execute_result"
    }
   ],
   "source": [
    "tag.video_set.filter(public=True)"
   ]
  },
  {
   "cell_type": "markdown",
   "metadata": {},
   "source": [
    "# Hashatgs and references"
   ]
  },
  {
   "cell_type": "code",
   "execution_count": 17,
   "metadata": {},
   "outputs": [
    {
     "name": "stdout",
     "output_type": "stream",
     "text": [
      "['I', 'did', 'it', '.', 'Now', 'what', '?', '#fyp', '#TheWeekndEXP', '#hairdye', '#blackhair', '#alt']\n"
     ]
    },
    {
     "data": {
      "text/plain": [
       "'I did it . Now what ? <a href=\"/tags/fyp\">#fyp</a> <a href=\"/tags/TheWeekndEXP\">#TheWeekndEXP</a> <a href=\"/tags/hairdye\">#hairdye</a> <a href=\"/tags/blackhair\">#blackhair</a> <a href=\"/tags/alt\">#alt</a>'"
      ]
     },
     "execution_count": 17,
     "metadata": {},
     "output_type": "execute_result"
    }
   ],
   "source": [
    "from string import Template\n",
    "import re\n",
    "from django.utils.html import mark_safe\n",
    "from nltk.tokenize import NLTKWordTokenizer, TweetTokenizer\n",
    "\n",
    "def hashtags(text):\n",
    "    new_tokens = []\n",
    "    tag = Template(\"\"\"<a href=\"$href\">$name</a>\"\"\")\n",
    "\n",
    "    instance = TweetTokenizer()\n",
    "    tokens = instance.tokenize(text)\n",
    "    print(tokens)\n",
    "    for token in tokens:\n",
    "        if token.startswith('#'):\n",
    "            value = re.match(r'\\#(\\w+)', token)\n",
    "            if value:\n",
    "                href = reverse('tags:tag', args=[value.group(1)])\n",
    "                token = tag.substitute(href=href, name=token)\n",
    "        new_tokens.append(token)\n",
    "    return mark_safe(' '.join(new_tokens))\n",
    "\n",
    "hashtags(\"I did it . Now what ? #fyp #TheWeekndEXP #hairdye #blackhair #alt\")"
   ]
  },
  {
   "cell_type": "markdown",
   "metadata": {},
   "source": [
    "# Suggested users"
   ]
  },
  {
   "cell_type": "code",
   "execution_count": 24,
   "metadata": {},
   "outputs": [],
   "source": [
    "follows_ids = list(models.MyUser.objects.first().myuserprofile.follows.values_list('id', flat=True))"
   ]
  },
  {
   "cell_type": "code",
   "execution_count": 26,
   "metadata": {},
   "outputs": [
    {
     "data": {
      "text/plain": [
       "<QuerySet [<MyUserProfile: pendenquejohn@gmail.com>, <MyUserProfile: juliettebinocha@gmail.com>]>"
      ]
     },
     "execution_count": 26,
     "metadata": {},
     "output_type": "execute_result"
    }
   ],
   "source": [
    "models.MyUserProfile.objects.exclude(id__in=follows_ids)"
   ]
  },
  {
   "cell_type": "markdown",
   "metadata": {},
   "source": [
    "# Search"
   ]
  },
  {
   "cell_type": "code",
   "execution_count": 36,
   "metadata": {},
   "outputs": [
    {
     "data": {
      "text/plain": [
       "<QuerySet [<Video: 7d6c06d5dc>, <Video: 71c477ea50>]>"
      ]
     },
     "execution_count": 36,
     "metadata": {},
     "output_type": "execute_result"
    }
   ],
   "source": [
    "q = \"drafts\"\n",
    "logic = (\n",
    "    Q(caption__icontains=q) |\n",
    "    Q(user__username__icontains=q) |\n",
    "    Q(tags__title__icontains=q)\n",
    ")\n",
    "feed_models.Video.objects.filter(logic).distinct()"
   ]
  },
  {
   "cell_type": "code",
   "execution_count": 11,
   "metadata": {},
   "outputs": [
    {
     "data": {
      "text/plain": [
       "<QuerySet [<MyUser: pendenquejohn@gmail.com>]>"
      ]
     },
     "execution_count": 11,
     "metadata": {},
     "output_type": "execute_result"
    }
   ],
   "source": [
    "models.MyUser.objects.filter(username__in=['zadigo'])"
   ]
  },
  {
   "cell_type": "code",
   "execution_count": null,
   "metadata": {},
   "outputs": [],
   "source": []
  }
 ],
 "metadata": {
  "kernelspec": {
   "display_name": "Django Shell-Plus",
   "language": "python",
   "name": "django_extensions"
  },
  "language_info": {
   "codemirror_mode": {
    "name": "ipython",
    "version": 3
   },
   "file_extension": ".py",
   "mimetype": "text/x-python",
   "name": "python",
   "nbconvert_exporter": "python",
   "pygments_lexer": "ipython3",
   "version": "3.8.2"
  }
 },
 "nbformat": 4,
 "nbformat_minor": 2
}
